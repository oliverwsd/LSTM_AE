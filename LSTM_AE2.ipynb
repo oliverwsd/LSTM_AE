{
  "nbformat": 4,
  "nbformat_minor": 0,
  "metadata": {
    "kernelspec": {
      "display_name": "Python 3",
      "language": "python",
      "name": "python3"
    },
    "language_info": {
      "codemirror_mode": {
        "name": "ipython",
        "version": 3
      },
      "file_extension": ".py",
      "mimetype": "text/x-python",
      "name": "python",
      "nbconvert_exporter": "python",
      "pygments_lexer": "ipython3",
      "version": "3.7.1"
    },
    "colab": {
      "name": "LSTM_AE.ipynb",
      "provenance": [],
      "include_colab_link": true
    }
  },
  "cells": [
    {
      "cell_type": "markdown",
      "metadata": {
        "id": "view-in-github",
        "colab_type": "text"
      },
      "source": [
        "<a href=\"https://colab.research.google.com/github/oliverwsd/LSTM_AE/blob/master/LSTM_AE2.ipynb\" target=\"_parent\"><img src=\"https://colab.research.google.com/assets/colab-badge.svg\" alt=\"Open In Colab\"/></a>"
      ]
    },
    {
      "cell_type": "code",
      "metadata": {
        "id": "a7pzup4CNSjc",
        "colab_type": "code",
        "colab": {}
      },
      "source": [
        "import json\n",
        "import pandas as pd\n",
        "import numpy as np\n",
        "import math\n",
        "import matplotlib.pyplot as plt\n",
        "import urllib.request, json \n",
        "\n",
        "# _ preferences\n",
        "plt.rcParams['figure.figsize'] = (30.0, 10.0)\n",
        "plt.style.use('ggplot')\n",
        "\n",
        "from keras.optimizers       import Adam\n",
        "from keras.models           import Sequential\n",
        "from keras.layers           import Dense\n",
        "from keras.layers           import LSTM, RepeatVector, TimeDistributed,Dropout\n",
        "from keras.models           import load_model\n",
        "\n",
        "from sklearn.metrics import mean_squared_error\n",
        "from sklearn.preprocessing import MinMaxScaler"
      ],
      "execution_count": null,
      "outputs": []
    },
    {
      "cell_type": "code",
      "metadata": {
        "id": "BstUChtENSjg",
        "colab_type": "code",
        "colab": {}
      },
      "source": [
        "#train_set = pd.read_csv('train_set.csv',parse_dates= ['Date'])\n",
        "train_set = 'https://raw.githubusercontent.com/oliverwsd/LSTM_AE/master/train_set.csv'\n",
        "train_set = pd.read_csv(train_set,parse_dates= ['Date'])"
      ],
      "execution_count": null,
      "outputs": []
    },
    {
      "cell_type": "code",
      "metadata": {
        "id": "T6N-DtmsNSjj",
        "colab_type": "code",
        "colab": {}
      },
      "source": [
        "train_set.index = train_set['Date']\n",
        "train_set = train_set.drop(['Date'],axis=1)"
      ],
      "execution_count": null,
      "outputs": []
    },
    {
      "cell_type": "code",
      "metadata": {
        "id": "BbAyVn0BNSjm",
        "colab_type": "code",
        "colab": {
          "base_uri": "https://localhost:8080/",
          "height": 235
        },
        "outputId": "e1c42c53-3b0f-4c24-97cc-fb07631118fc"
      },
      "source": [
        "train_set.head()"
      ],
      "execution_count": null,
      "outputs": [
        {
          "output_type": "execute_result",
          "data": {
            "text/html": [
              "<div>\n",
              "<style scoped>\n",
              "    .dataframe tbody tr th:only-of-type {\n",
              "        vertical-align: middle;\n",
              "    }\n",
              "\n",
              "    .dataframe tbody tr th {\n",
              "        vertical-align: top;\n",
              "    }\n",
              "\n",
              "    .dataframe thead th {\n",
              "        text-align: right;\n",
              "    }\n",
              "</style>\n",
              "<table border=\"1\" class=\"dataframe\">\n",
              "  <thead>\n",
              "    <tr style=\"text-align: right;\">\n",
              "      <th></th>\n",
              "      <th>Open</th>\n",
              "      <th>High</th>\n",
              "      <th>Low</th>\n",
              "      <th>Close</th>\n",
              "      <th>Adj Close</th>\n",
              "    </tr>\n",
              "    <tr>\n",
              "      <th>Date</th>\n",
              "      <th></th>\n",
              "      <th></th>\n",
              "      <th></th>\n",
              "      <th></th>\n",
              "      <th></th>\n",
              "    </tr>\n",
              "  </thead>\n",
              "  <tbody>\n",
              "    <tr>\n",
              "      <th>2016-01-04</th>\n",
              "      <td>2038.199951</td>\n",
              "      <td>2038.199951</td>\n",
              "      <td>1989.680054</td>\n",
              "      <td>2012.660034</td>\n",
              "      <td>2012.660034</td>\n",
              "    </tr>\n",
              "    <tr>\n",
              "      <th>2016-01-05</th>\n",
              "      <td>2013.780029</td>\n",
              "      <td>2021.939941</td>\n",
              "      <td>2004.170044</td>\n",
              "      <td>2016.709961</td>\n",
              "      <td>2016.709961</td>\n",
              "    </tr>\n",
              "    <tr>\n",
              "      <th>2016-01-06</th>\n",
              "      <td>2011.709961</td>\n",
              "      <td>2011.709961</td>\n",
              "      <td>1979.050049</td>\n",
              "      <td>1990.260010</td>\n",
              "      <td>1990.260010</td>\n",
              "    </tr>\n",
              "    <tr>\n",
              "      <th>2016-01-07</th>\n",
              "      <td>1985.319946</td>\n",
              "      <td>1985.319946</td>\n",
              "      <td>1938.829956</td>\n",
              "      <td>1943.089966</td>\n",
              "      <td>1943.089966</td>\n",
              "    </tr>\n",
              "    <tr>\n",
              "      <th>2016-01-08</th>\n",
              "      <td>1945.969971</td>\n",
              "      <td>1960.400024</td>\n",
              "      <td>1918.459961</td>\n",
              "      <td>1922.030029</td>\n",
              "      <td>1922.030029</td>\n",
              "    </tr>\n",
              "  </tbody>\n",
              "</table>\n",
              "</div>"
            ],
            "text/plain": [
              "                   Open         High          Low        Close    Adj Close\n",
              "Date                                                                       \n",
              "2016-01-04  2038.199951  2038.199951  1989.680054  2012.660034  2012.660034\n",
              "2016-01-05  2013.780029  2021.939941  2004.170044  2016.709961  2016.709961\n",
              "2016-01-06  2011.709961  2011.709961  1979.050049  1990.260010  1990.260010\n",
              "2016-01-07  1985.319946  1985.319946  1938.829956  1943.089966  1943.089966\n",
              "2016-01-08  1945.969971  1960.400024  1918.459961  1922.030029  1922.030029"
            ]
          },
          "metadata": {
            "tags": []
          },
          "execution_count": 4
        }
      ]
    },
    {
      "cell_type": "code",
      "metadata": {
        "id": "WkSKto4oNSjo",
        "colab_type": "code",
        "colab": {
          "base_uri": "https://localhost:8080/",
          "height": 334
        },
        "outputId": "edf1d823-1d2f-484c-e281-4bdfb126cf26"
      },
      "source": [
        "import seaborn as sns\n",
        "cm = np.corrcoef(train_set.values.T)   \n",
        "sns.set(font_scale=1)   \n",
        "hm = sns.heatmap(cm,cbar=True,annot=True,square=True,fmt='.4f',annot_kws={'size': 15},yticklabels=train_set.columns,xticklabels=train_set.columns)\n",
        "#plt.tight_layout()\n",
        "# plt.savefig('./figures/corr_mat.png', dpi=300)\n"
      ],
      "execution_count": null,
      "outputs": [
        {
          "output_type": "stream",
          "text": [
            "/usr/local/lib/python3.6/dist-packages/statsmodels/tools/_testing.py:19: FutureWarning: pandas.util.testing is deprecated. Use the functions in the public API at pandas.testing instead.\n",
            "  import pandas.util.testing as tm\n"
          ],
          "name": "stderr"
        },
        {
          "output_type": "display_data",
          "data": {
            "image/png": "[encoded data removed]",
            "text/plain": [
              "<Figure size 432x288 with 2 Axes>"
            ]
          },
          "metadata": {
            "tags": []
          }
        }
      ]
    },
    {
      "cell_type": "code",
      "metadata": {
        "id": "hFmTOa5jNSjr",
        "colab_type": "code",
        "colab": {}
      },
      "source": [
        "#test_set = pd.read_csv('test_set.csv',parse_dates= ['Date'])\n",
        "test_set = 'https://raw.githubusercontent.com/oliverwsd/LSTM_AE/master/test_set.csv'\n",
        "test_set = pd.read_csv(test_set,parse_dates= ['Date'])"
      ],
      "execution_count": null,
      "outputs": []
    },
    {
      "cell_type": "code",
      "metadata": {
        "id": "mZ7wHqfYNSjt",
        "colab_type": "code",
        "colab": {}
      },
      "source": [
        "test_set.index = test_set['Date']\n",
        "test_set = test_set.drop(['Date'],axis=1)"
      ],
      "execution_count": null,
      "outputs": []
    },
    {
      "cell_type": "code",
      "metadata": {
        "id": "biuf7HtFNSjw",
        "colab_type": "code",
        "colab": {
          "base_uri": "https://localhost:8080/",
          "height": 235
        },
        "outputId": "9df5d093-0f0e-44d8-f267-51d0f229a240"
      },
      "source": [
        "test_set.head()"
      ],
      "execution_count": null,
      "outputs": [
        {
          "output_type": "execute_result",
          "data": {
            "text/html": [
              "<div>\n",
              "<style scoped>\n",
              "    .dataframe tbody tr th:only-of-type {\n",
              "        vertical-align: middle;\n",
              "    }\n",
              "\n",
              "    .dataframe tbody tr th {\n",
              "        vertical-align: top;\n",
              "    }\n",
              "\n",
              "    .dataframe thead th {\n",
              "        text-align: right;\n",
              "    }\n",
              "</style>\n",
              "<table border=\"1\" class=\"dataframe\">\n",
              "  <thead>\n",
              "    <tr style=\"text-align: right;\">\n",
              "      <th></th>\n",
              "      <th>Open</th>\n",
              "      <th>High</th>\n",
              "      <th>Low</th>\n",
              "      <th>Close</th>\n",
              "      <th>Adj Close</th>\n",
              "    </tr>\n",
              "    <tr>\n",
              "      <th>Date</th>\n",
              "      <th></th>\n",
              "      <th></th>\n",
              "      <th></th>\n",
              "      <th></th>\n",
              "      <th></th>\n",
              "    </tr>\n",
              "  </thead>\n",
              "  <tbody>\n",
              "    <tr>\n",
              "      <th>2019-08-27</th>\n",
              "      <td>2893.139893</td>\n",
              "      <td>2898.790039</td>\n",
              "      <td>2860.590088</td>\n",
              "      <td>2869.159912</td>\n",
              "      <td>2869.159912</td>\n",
              "    </tr>\n",
              "    <tr>\n",
              "      <th>2019-08-28</th>\n",
              "      <td>2861.280029</td>\n",
              "      <td>2890.030029</td>\n",
              "      <td>2853.050049</td>\n",
              "      <td>2887.939941</td>\n",
              "      <td>2887.939941</td>\n",
              "    </tr>\n",
              "    <tr>\n",
              "      <th>2019-08-29</th>\n",
              "      <td>2910.370117</td>\n",
              "      <td>2930.500000</td>\n",
              "      <td>2905.669922</td>\n",
              "      <td>2924.580078</td>\n",
              "      <td>2924.580078</td>\n",
              "    </tr>\n",
              "    <tr>\n",
              "      <th>2019-08-30</th>\n",
              "      <td>2937.090088</td>\n",
              "      <td>2940.429932</td>\n",
              "      <td>2913.320068</td>\n",
              "      <td>2926.459961</td>\n",
              "      <td>2926.459961</td>\n",
              "    </tr>\n",
              "    <tr>\n",
              "      <th>2019-09-03</th>\n",
              "      <td>2909.010010</td>\n",
              "      <td>2914.389893</td>\n",
              "      <td>2891.850098</td>\n",
              "      <td>2906.270020</td>\n",
              "      <td>2906.270020</td>\n",
              "    </tr>\n",
              "  </tbody>\n",
              "</table>\n",
              "</div>"
            ],
            "text/plain": [
              "                   Open         High          Low        Close    Adj Close\n",
              "Date                                                                       \n",
              "2019-08-27  2893.139893  2898.790039  2860.590088  2869.159912  2869.159912\n",
              "2019-08-28  2861.280029  2890.030029  2853.050049  2887.939941  2887.939941\n",
              "2019-08-29  2910.370117  2930.500000  2905.669922  2924.580078  2924.580078\n",
              "2019-08-30  2937.090088  2940.429932  2913.320068  2926.459961  2926.459961\n",
              "2019-09-03  2909.010010  2914.389893  2891.850098  2906.270020  2906.270020"
            ]
          },
          "metadata": {
            "tags": []
          },
          "execution_count": 8
        }
      ]
    },
    {
      "cell_type": "markdown",
      "metadata": {
        "id": "pJIjaG0MNSjz",
        "colab_type": "text"
      },
      "source": [
        "#  preprocessing data"
      ]
    },
    {
      "cell_type": "code",
      "metadata": {
        "id": "tun_PUrmNSjz",
        "colab_type": "code",
        "colab": {}
      },
      "source": [
        "sc = MinMaxScaler(feature_range = (0,1))\n",
        "train_set_scaled = sc.fit_transform(train_set)\n",
        "test_set_scaled = sc.fit_transform(test_set)"
      ],
      "execution_count": null,
      "outputs": []
    },
    {
      "cell_type": "code",
      "metadata": {
        "id": "nLdmtYDiNSj1",
        "colab_type": "code",
        "colab": {}
      },
      "source": [
        "train_set_scaled = pd.DataFrame(train_set_scaled,columns=train_set.columns)"
      ],
      "execution_count": null,
      "outputs": []
    },
    {
      "cell_type": "code",
      "metadata": {
        "id": "GjiDjWA9NSj4",
        "colab_type": "code",
        "colab": {}
      },
      "source": [
        "test_set_scaled = pd.DataFrame(test_set_scaled,columns=train_set.columns)"
      ],
      "execution_count": null,
      "outputs": []
    },
    {
      "cell_type": "code",
      "metadata": {
        "id": "nj4Gy1HeNSj9",
        "colab_type": "code",
        "colab": {}
      },
      "source": [
        "# preparing data for LSTM-AE\n",
        "# we consider an embedding layer instead of feeding the entire seires into the model at once\n",
        "# therefore we split data into smaller peices in an constant window to create a smaller seires of observertion for prediction\n",
        "\n",
        "def normalize_data(X, Y, LOOKBACK_WINDOW):\n",
        "    _X = X.dropna()\n",
        "    _Xs = []\n",
        "    _Ys = []\n",
        "    for i in range(_X.shape[0] - LOOKBACK_WINDOW):\n",
        "        cur_X = _X.values[i:i + LOOKBACK_WINDOW]\n",
        "        _Xs.append(cur_X)\n",
        "        \n",
        "        y_pointer = i + LOOKBACK_WINDOW\n",
        "        cur_Y = Y.values[y_pointer]\n",
        "        _Ys.append(cur_Y)\n",
        "    return np.array(_Xs), np.array(_Ys)"
      ],
      "execution_count": null,
      "outputs": []
    },
    {
      "cell_type": "code",
      "metadata": {
        "id": "NgM-7YhgNSkB",
        "colab_type": "code",
        "colab": {}
      },
      "source": [
        "#x_train, y_train = normalize_data(train_set_scaled, train_set_scaled['Adj Close'], 23)\n",
        "#x_test, y_test = normalize_data(test_set_scaled, test_set_scaled['Adj Close'], 23)"
      ],
      "execution_count": null,
      "outputs": []
    },
    {
      "cell_type": "code",
      "metadata": {
        "id": "oPrOjm4aNSkD",
        "colab_type": "code",
        "colab": {}
      },
      "source": [
        "x_train, y_train = normalize_data(train_set_scaled, train_set_scaled['Adj Close'], 10)\n",
        "x_test, y_test = normalize_data(test_set_scaled, test_set_scaled['Adj Close'], 10)"
      ],
      "execution_count": null,
      "outputs": []
    },
    {
      "cell_type": "code",
      "metadata": {
        "id": "I7z7DLj_NSkF",
        "colab_type": "code",
        "colab": {}
      },
      "source": [
        "y_train = y_train.reshape(y_train.shape[0],1)"
      ],
      "execution_count": null,
      "outputs": []
    },
    {
      "cell_type": "markdown",
      "metadata": {
        "id": "qB9y9ItbNSkH",
        "colab_type": "text"
      },
      "source": [
        "# Reconstruct-Model"
      ]
    },
    {
      "cell_type": "markdown",
      "metadata": {
        "id": "R8C2XBYPNSkI",
        "colab_type": "text"
      },
      "source": [
        "###  We use LSTM-AE to reconstruct the market index \n",
        "the encoder is supposed to extract the hidden feature from the input data, hence helps us to reduce the data dimension"
      ]
    },
    {
      "cell_type": "code",
      "metadata": {
        "id": "Q_gMl5zUNSkI",
        "colab_type": "code",
        "colab": {}
      },
      "source": [
        "timesteps = x_train.shape[1]\n",
        "n_features = x_train.shape[2]"
      ],
      "execution_count": null,
      "outputs": []
    },
    {
      "cell_type": "code",
      "metadata": {
        "id": "qW9F_nSnNSkK",
        "colab_type": "code",
        "colab": {
          "base_uri": "https://localhost:8080/",
          "height": 557
        },
        "outputId": "7525c98c-d3a3-4824-cacb-a8ca7ac8b7f4"
      },
      "source": [
        "model = Sequential()\n",
        "model.add(LSTM(128,activation='relu',input_shape= (timesteps,n_features),return_sequences = True))\n",
        "model.add(Dropout(0.2))\n",
        "model.add(LSTM(64,activation='relu', return_sequences = True))\n",
        "model.add(Dropout(0.2))\n",
        "model.add(LSTM(1,activation='relu'))\n",
        "model.add(RepeatVector(timesteps))\n",
        "model.add(LSTM(64,activation='relu', return_sequences = True))\n",
        "model.add(Dropout(0.2))\n",
        "model.add(LSTM(128,activation='relu', return_sequences = True))\n",
        "model.add(Dropout(0.2))\n",
        "model.add(TimeDistributed(Dense(n_features)))\n",
        "\n",
        "model.compile(optimizer='adam',loss='mse')\n",
        "model.summary()"
      ],
      "execution_count": null,
      "outputs": [
        {
          "output_type": "stream",
          "text": [
            "Model: \"sequential\"\n",
            "_________________________________________________________________\n",
            "Layer (type)                 Output Shape              Param #   \n",
            "=================================================================\n",
            "lstm (LSTM)                  (None, 10, 128)           68608     \n",
            "_________________________________________________________________\n",
            "dropout (Dropout)            (None, 10, 128)           0         \n",
            "_________________________________________________________________\n",
            "lstm_1 (LSTM)                (None, 10, 64)            49408     \n",
            "_________________________________________________________________\n",
            "dropout_1 (Dropout)          (None, 10, 64)            0         \n",
            "_________________________________________________________________\n",
            "lstm_2 (LSTM)                (None, 1)                 264       \n",
            "_________________________________________________________________\n",
            "repeat_vector (RepeatVector) (None, 10, 1)             0         \n",
            "_________________________________________________________________\n",
            "lstm_3 (LSTM)                (None, 10, 64)            16896     \n",
            "_________________________________________________________________\n",
            "dropout_2 (Dropout)          (None, 10, 64)            0         \n",
            "_________________________________________________________________\n",
            "lstm_4 (LSTM)                (None, 10, 128)           98816     \n",
            "_________________________________________________________________\n",
            "dropout_3 (Dropout)          (None, 10, 128)           0         \n",
            "_________________________________________________________________\n",
            "time_distributed (TimeDistri (None, 10, 5)             645       \n",
            "=================================================================\n",
            "Total params: 234,637\n",
            "Trainable params: 234,637\n",
            "Non-trainable params: 0\n",
            "_________________________________________________________________\n"
          ],
          "name": "stdout"
        }
      ]
    },
    {
      "cell_type": "code",
      "metadata": {
        "id": "djkYWRc4NSkN",
        "colab_type": "code",
        "colab": {
          "base_uri": "https://localhost:8080/",
          "height": 1000
        },
        "outputId": "d8d62df2-4986-4597-a4c0-3364f96cea69"
      },
      "source": [
        "from keras.models import  Model\n",
        "from keras.utils import plot_model\n",
        "encoder = Model(inputs=model.inputs, outputs=model.layers[4].output)\n",
        "plot_model(model, show_shapes=True, to_file='encoder_decoder_reconstruct_lstm.png')"
      ],
      "execution_count": null,
      "outputs": [
        {
          "output_type": "execute_result",
          "data": {
            "image/png": "[encoded data removed]",
            "text/plain": [
              "<IPython.core.display.Image object>"
            ]
          },
          "metadata": {
            "tags": []
          },
          "execution_count": 18
        }
      ]
    },
    {
      "cell_type": "code",
      "metadata": {
        "id": "AjU0vlTANSkP",
        "colab_type": "code",
        "colab": {
          "base_uri": "https://localhost:8080/",
          "height": 644
        },
        "outputId": "adf2d7ee-f210-43a8-fa27-b7d14304c20e"
      },
      "source": [
        "plot_model(encoder, show_shapes=True, to_file='encoder_lstm.png')"
      ],
      "execution_count": null,
      "outputs": [
        {
          "output_type": "execute_result",
          "data": {
            "image/png": "[encoded data removed]",
            "text/plain": [
              "<IPython.core.display.Image object>"
            ]
          },
          "metadata": {
            "tags": []
          },
          "execution_count": 19
        }
      ]
    },
    {
      "cell_type": "code",
      "metadata": {
        "id": "iYvQp-BONSkS",
        "colab_type": "code",
        "colab": {}
      },
      "source": [
        "from keras.callbacks import EarlyStopping\n",
        "es = EarlyStopping(monitor='val_loss', mode='min', verbose=1, patience=10) # EarlyStopping\n",
        "#mc = ModelCheckpoint('best_model.h5', monitor='val_loss', mode='min', verbose=1, save_best_only=True)"
      ],
      "execution_count": null,
      "outputs": []
    },
    {
      "cell_type": "code",
      "metadata": {
        "id": "fNAtTgLnNSkU",
        "colab_type": "code",
        "colab": {
          "base_uri": "https://localhost:8080/",
          "height": 1000
        },
        "outputId": "55286d2c-0c1a-4007-b7e7-b0d2be8bd468"
      },
      "source": [
        "# history_1 = model.fit(x_train, x_train, epochs=100, batch_size=32, validation_split=0.1, callbacks=[es], verbose=1)\n",
        "history_1 = model.fit(x_train, x_train, epochs=500, batch_size=32, validation_split = 0.1, verbose=1) #without earlystopping"
      ],
      "execution_count": null,
      "outputs": [
        {
          "output_type": "stream",
          "text": [
            "Epoch 1/500\n",
            "26/26 [==============================] - 2s 66ms/step - loss: 0.2574 - val_loss: 0.3425\n",
            "Epoch 2/500\n",
            "26/26 [==============================] - 1s 39ms/step - loss: 0.1313 - val_loss: 0.3047\n",
            "Epoch 3/500\n",
            "26/26 [==============================] - 1s 39ms/step - loss: 0.1042 - val_loss: 0.2725\n",
            "Epoch 4/500\n",
            "26/26 [==============================] - 1s 39ms/step - loss: 0.0882 - val_loss: 0.2387\n",
            "Epoch 5/500\n",
            "26/26 [==============================] - 1s 39ms/step - loss: 0.0781 - val_loss: 0.2063\n",
            "Epoch 6/500\n",
            "26/26 [==============================] - 1s 38ms/step - loss: 0.0734 - val_loss: 0.2054\n",
            "Epoch 7/500\n",
            "26/26 [==============================] - 1s 38ms/step - loss: 0.0709 - val_loss: 0.1911\n",
            "Epoch 8/500\n",
            "26/26 [==============================] - 1s 39ms/step - loss: 0.0684 - val_loss: 0.1877\n",
            "Epoch 9/500\n",
            "26/26 [==============================] - 1s 38ms/step - loss: 0.0670 - val_loss: 0.1948\n",
            "Epoch 10/500\n",
            "26/26 [==============================] - 1s 38ms/step - loss: 0.0655 - val_loss: 0.1687\n",
            "Epoch 11/500\n",
            "26/26 [==============================] - 1s 39ms/step - loss: 0.0646 - val_loss: 0.1724\n",
            "Epoch 12/500\n",
            "26/26 [==============================] - 1s 38ms/step - loss: 0.0641 - val_loss: 0.1735\n",
            "Epoch 13/500\n",
            "26/26 [==============================] - 1s 39ms/step - loss: 0.0632 - val_loss: 0.1657\n",
            "Epoch 14/500\n",
            "26/26 [==============================] - 1s 39ms/step - loss: 0.0625 - val_loss: 0.1602\n",
            "Epoch 15/500\n",
            "26/26 [==============================] - 1s 39ms/step - loss: 0.0616 - val_loss: 0.1752\n",
            "Epoch 16/500\n",
            "26/26 [==============================] - 1s 39ms/step - loss: 0.0616 - val_loss: 0.1632\n",
            "Epoch 17/500\n",
            "26/26 [==============================] - 1s 39ms/step - loss: 0.0607 - val_loss: 0.1548\n",
            "Epoch 18/500\n",
            "26/26 [==============================] - 1s 39ms/step - loss: 0.0604 - val_loss: 0.1602\n",
            "Epoch 19/500\n",
            "26/26 [==============================] - 1s 39ms/step - loss: 0.0602 - val_loss: 0.1515\n",
            "Epoch 20/500\n",
            "26/26 [==============================] - 1s 39ms/step - loss: 0.0600 - val_loss: 0.1613\n",
            "Epoch 21/500\n",
            "26/26 [==============================] - 1s 39ms/step - loss: 0.0602 - val_loss: 0.1458\n",
            "Epoch 22/500\n",
            "26/26 [==============================] - 1s 39ms/step - loss: 0.0600 - val_loss: 0.1485\n",
            "Epoch 23/500\n",
            "26/26 [==============================] - 1s 39ms/step - loss: 0.0594 - val_loss: 0.1500\n",
            "Epoch 24/500\n",
            "26/26 [==============================] - 1s 39ms/step - loss: 0.0595 - val_loss: 0.1530\n",
            "Epoch 25/500\n",
            "26/26 [==============================] - 1s 38ms/step - loss: 0.0592 - val_loss: 0.1545\n",
            "Epoch 26/500\n",
            "26/26 [==============================] - 1s 39ms/step - loss: 0.0594 - val_loss: 0.1411\n",
            "Epoch 27/500\n",
            "26/26 [==============================] - 1s 39ms/step - loss: 0.0590 - val_loss: 0.1486\n",
            "Epoch 28/500\n",
            "26/26 [==============================] - 1s 39ms/step - loss: 0.0592 - val_loss: 0.1612\n",
            "Epoch 29/500\n",
            "26/26 [==============================] - 1s 39ms/step - loss: 0.0592 - val_loss: 0.1434\n",
            "Epoch 30/500\n",
            "26/26 [==============================] - 1s 39ms/step - loss: 0.0590 - val_loss: 0.1413\n",
            "Epoch 31/500\n",
            "26/26 [==============================] - 1s 41ms/step - loss: 0.0590 - val_loss: 0.1582\n",
            "Epoch 32/500\n",
            "26/26 [==============================] - 1s 39ms/step - loss: 0.0593 - val_loss: 0.1416\n",
            "Epoch 33/500\n",
            "26/26 [==============================] - 1s 39ms/step - loss: 0.0592 - val_loss: 0.1543\n",
            "Epoch 34/500\n",
            "26/26 [==============================] - 1s 39ms/step - loss: 0.0587 - val_loss: 0.1614\n",
            "Epoch 35/500\n",
            "26/26 [==============================] - 1s 39ms/step - loss: 0.0587 - val_loss: 0.1407\n",
            "Epoch 36/500\n",
            "26/26 [==============================] - 1s 39ms/step - loss: 0.0587 - val_loss: 0.1579\n",
            "Epoch 37/500\n",
            "26/26 [==============================] - 1s 39ms/step - loss: 0.0589 - val_loss: 0.1566\n",
            "Epoch 38/500\n",
            "26/26 [==============================] - 1s 39ms/step - loss: 0.0589 - val_loss: 0.1483\n",
            "Epoch 39/500\n",
            "26/26 [==============================] - 1s 38ms/step - loss: 0.0592 - val_loss: 0.1491\n",
            "Epoch 40/500\n",
            "26/26 [==============================] - 1s 39ms/step - loss: 0.0588 - val_loss: 0.1562\n",
            "Epoch 41/500\n",
            "26/26 [==============================] - 1s 41ms/step - loss: 0.0589 - val_loss: 0.1522\n",
            "Epoch 42/500\n",
            "26/26 [==============================] - 1s 39ms/step - loss: 0.0584 - val_loss: 0.1560\n",
            "Epoch 43/500\n",
            "26/26 [==============================] - 1s 40ms/step - loss: 0.0593 - val_loss: 0.1511\n",
            "Epoch 44/500\n",
            "26/26 [==============================] - 1s 39ms/step - loss: 0.0590 - val_loss: 0.1546\n",
            "Epoch 45/500\n",
            "26/26 [==============================] - 1s 40ms/step - loss: 0.0589 - val_loss: 0.1524\n",
            "Epoch 46/500\n",
            "26/26 [==============================] - 1s 39ms/step - loss: 0.0588 - val_loss: 0.1430\n",
            "Epoch 47/500\n",
            "26/26 [==============================] - 1s 39ms/step - loss: 0.0588 - val_loss: 0.1471\n",
            "Epoch 48/500\n",
            "26/26 [==============================] - 1s 39ms/step - loss: 0.0586 - val_loss: 0.1655\n",
            "Epoch 49/500\n",
            "26/26 [==============================] - 1s 39ms/step - loss: 0.0595 - val_loss: 0.1529\n",
            "Epoch 50/500\n",
            "26/26 [==============================] - 1s 39ms/step - loss: 0.0587 - val_loss: 0.1346\n",
            "Epoch 51/500\n",
            "26/26 [==============================] - 1s 39ms/step - loss: 0.0596 - val_loss: 0.1373\n",
            "Epoch 52/500\n",
            "26/26 [==============================] - 1s 38ms/step - loss: 0.0587 - val_loss: 0.1552\n",
            "Epoch 53/500\n",
            "26/26 [==============================] - 1s 39ms/step - loss: 0.0586 - val_loss: 0.1403\n",
            "Epoch 54/500\n",
            "26/26 [==============================] - 1s 39ms/step - loss: 0.0586 - val_loss: 0.1641\n",
            "Epoch 55/500\n",
            "26/26 [==============================] - 1s 39ms/step - loss: 0.0585 - val_loss: 0.1376\n",
            "Epoch 56/500\n",
            "26/26 [==============================] - 1s 39ms/step - loss: 0.0587 - val_loss: 0.1535\n",
            "Epoch 57/500\n",
            "26/26 [==============================] - 1s 39ms/step - loss: 0.0585 - val_loss: 0.1393\n",
            "Epoch 58/500\n",
            "26/26 [==============================] - 1s 39ms/step - loss: 0.0594 - val_loss: 0.1684\n",
            "Epoch 59/500\n",
            "26/26 [==============================] - 1s 39ms/step - loss: 0.0592 - val_loss: 0.1603\n",
            "Epoch 60/500\n",
            "26/26 [==============================] - 1s 39ms/step - loss: 0.0582 - val_loss: 0.1458\n",
            "Epoch 61/500\n",
            "26/26 [==============================] - 1s 39ms/step - loss: 0.0583 - val_loss: 0.1608\n",
            "Epoch 62/500\n",
            "26/26 [==============================] - 1s 39ms/step - loss: 0.0585 - val_loss: 0.1440\n",
            "Epoch 63/500\n",
            "26/26 [==============================] - 1s 39ms/step - loss: 0.0586 - val_loss: 0.1592\n",
            "Epoch 64/500\n",
            "26/26 [==============================] - 1s 39ms/step - loss: 0.0586 - val_loss: 0.1530\n",
            "Epoch 65/500\n",
            "26/26 [==============================] - 1s 39ms/step - loss: 0.0582 - val_loss: 0.1382\n",
            "Epoch 66/500\n",
            "26/26 [==============================] - 1s 39ms/step - loss: 0.0589 - val_loss: 0.1566\n",
            "Epoch 67/500\n",
            "26/26 [==============================] - 1s 39ms/step - loss: 0.0583 - val_loss: 0.1460\n",
            "Epoch 68/500\n",
            "26/26 [==============================] - 1s 39ms/step - loss: 0.0585 - val_loss: 0.1675\n",
            "Epoch 69/500\n",
            "26/26 [==============================] - 1s 39ms/step - loss: 0.0589 - val_loss: 0.1491\n",
            "Epoch 70/500\n",
            "26/26 [==============================] - 1s 39ms/step - loss: 0.0586 - val_loss: 0.1505\n",
            "Epoch 71/500\n",
            "26/26 [==============================] - 1s 39ms/step - loss: 0.0584 - val_loss: 0.1574\n",
            "Epoch 72/500\n",
            "26/26 [==============================] - 1s 39ms/step - loss: 0.0589 - val_loss: 0.1455\n",
            "Epoch 73/500\n",
            "26/26 [==============================] - 1s 40ms/step - loss: 0.0586 - val_loss: 0.1382\n",
            "Epoch 74/500\n",
            "26/26 [==============================] - 1s 42ms/step - loss: 0.0590 - val_loss: 0.1437\n",
            "Epoch 75/500\n",
            "26/26 [==============================] - 1s 40ms/step - loss: 0.0587 - val_loss: 0.1599\n",
            "Epoch 76/500\n",
            "26/26 [==============================] - 1s 41ms/step - loss: 0.0585 - val_loss: 0.1335\n",
            "Epoch 77/500\n",
            "26/26 [==============================] - 1s 40ms/step - loss: 0.0589 - val_loss: 0.1487\n",
            "Epoch 78/500\n",
            "26/26 [==============================] - 1s 41ms/step - loss: 0.0586 - val_loss: 0.1529\n",
            "Epoch 79/500\n",
            "26/26 [==============================] - 1s 40ms/step - loss: 0.0584 - val_loss: 0.1445\n",
            "Epoch 80/500\n",
            "26/26 [==============================] - 1s 39ms/step - loss: 0.0585 - val_loss: 0.1435\n",
            "Epoch 81/500\n",
            "26/26 [==============================] - 1s 39ms/step - loss: 0.0583 - val_loss: 0.1459\n",
            "Epoch 82/500\n",
            "26/26 [==============================] - 1s 39ms/step - loss: 0.0583 - val_loss: 0.1442\n",
            "Epoch 83/500\n",
            "26/26 [==============================] - 1s 39ms/step - loss: 0.0584 - val_loss: 0.1457\n",
            "Epoch 84/500\n",
            "26/26 [==============================] - 1s 39ms/step - loss: 0.0586 - val_loss: 0.1541\n",
            "Epoch 85/500\n",
            "26/26 [==============================] - 1s 38ms/step - loss: 0.0583 - val_loss: 0.1509\n",
            "Epoch 86/500\n",
            "26/26 [==============================] - 1s 39ms/step - loss: 0.0585 - val_loss: 0.1485\n",
            "Epoch 87/500\n",
            "26/26 [==============================] - 1s 39ms/step - loss: 0.0581 - val_loss: 0.1550\n",
            "Epoch 88/500\n",
            "26/26 [==============================] - 1s 39ms/step - loss: 0.0584 - val_loss: 0.1545\n",
            "Epoch 89/500\n",
            "26/26 [==============================] - 1s 40ms/step - loss: 0.0586 - val_loss: 0.1652\n",
            "Epoch 90/500\n",
            "26/26 [==============================] - 1s 39ms/step - loss: 0.0586 - val_loss: 0.1448\n",
            "Epoch 91/500\n",
            "26/26 [==============================] - 1s 40ms/step - loss: 0.0588 - val_loss: 0.1522\n",
            "Epoch 92/500\n",
            "26/26 [==============================] - 1s 40ms/step - loss: 0.0586 - val_loss: 0.1422\n",
            "Epoch 93/500\n",
            "26/26 [==============================] - 1s 39ms/step - loss: 0.0587 - val_loss: 0.1359\n",
            "Epoch 94/500\n",
            "26/26 [==============================] - 1s 39ms/step - loss: 0.0586 - val_loss: 0.1647\n",
            "Epoch 95/500\n",
            "26/26 [==============================] - 1s 39ms/step - loss: 0.0584 - val_loss: 0.1390\n",
            "Epoch 96/500\n",
            "26/26 [==============================] - 1s 39ms/step - loss: 0.0589 - val_loss: 0.1425\n",
            "Epoch 97/500\n",
            "26/26 [==============================] - 1s 40ms/step - loss: 0.0583 - val_loss: 0.1498\n",
            "Epoch 98/500\n",
            "26/26 [==============================] - 1s 39ms/step - loss: 0.0583 - val_loss: 0.1514\n",
            "Epoch 99/500\n",
            "26/26 [==============================] - 1s 41ms/step - loss: 0.0584 - val_loss: 0.1534\n",
            "Epoch 100/500\n",
            "26/26 [==============================] - 1s 40ms/step - loss: 0.0583 - val_loss: 0.1493\n",
            "Epoch 101/500\n",
            "26/26 [==============================] - 1s 40ms/step - loss: 0.0584 - val_loss: 0.1486\n",
            "Epoch 102/500\n",
            "26/26 [==============================] - 1s 40ms/step - loss: 0.0585 - val_loss: 0.1590\n",
            "Epoch 103/500\n",
            "26/26 [==============================] - 1s 40ms/step - loss: 0.0584 - val_loss: 0.1398\n",
            "Epoch 104/500\n",
            "26/26 [==============================] - 1s 39ms/step - loss: 0.0583 - val_loss: 0.1528\n",
            "Epoch 105/500\n",
            "26/26 [==============================] - 1s 39ms/step - loss: 0.0581 - val_loss: 0.1449\n",
            "Epoch 106/500\n",
            "26/26 [==============================] - 1s 38ms/step - loss: 0.0584 - val_loss: 0.1437\n",
            "Epoch 107/500\n",
            "26/26 [==============================] - 1s 39ms/step - loss: 0.0585 - val_loss: 0.1430\n",
            "Epoch 108/500\n",
            "26/26 [==============================] - 1s 38ms/step - loss: 0.0585 - val_loss: 0.1572\n",
            "Epoch 109/500\n",
            "26/26 [==============================] - 1s 38ms/step - loss: 0.0583 - val_loss: 0.1470\n",
            "Epoch 110/500\n",
            "26/26 [==============================] - 1s 39ms/step - loss: 0.0586 - val_loss: 0.1434\n",
            "Epoch 111/500\n",
            "26/26 [==============================] - 1s 39ms/step - loss: 0.0582 - val_loss: 0.1539\n",
            "Epoch 112/500\n",
            "26/26 [==============================] - 1s 39ms/step - loss: 0.0582 - val_loss: 0.1472\n",
            "Epoch 113/500\n",
            "26/26 [==============================] - 1s 40ms/step - loss: 0.0581 - val_loss: 0.1504\n",
            "Epoch 114/500\n",
            "26/26 [==============================] - 1s 39ms/step - loss: 0.0587 - val_loss: 0.1588\n",
            "Epoch 115/500\n",
            "26/26 [==============================] - 1s 39ms/step - loss: 0.0582 - val_loss: 0.1417\n",
            "Epoch 116/500\n",
            "26/26 [==============================] - 1s 40ms/step - loss: 0.0583 - val_loss: 0.1501\n",
            "Epoch 117/500\n",
            "26/26 [==============================] - 1s 39ms/step - loss: 0.0583 - val_loss: 0.1451\n",
            "Epoch 118/500\n",
            "26/26 [==============================] - 1s 40ms/step - loss: 0.0582 - val_loss: 0.1500\n",
            "Epoch 119/500\n",
            "26/26 [==============================] - 1s 39ms/step - loss: 0.0585 - val_loss: 0.1439\n",
            "Epoch 120/500\n",
            "26/26 [==============================] - 1s 39ms/step - loss: 0.0582 - val_loss: 0.1504\n",
            "Epoch 121/500\n",
            "26/26 [==============================] - 1s 39ms/step - loss: 0.0583 - val_loss: 0.1455\n",
            "Epoch 122/500\n",
            "26/26 [==============================] - 1s 39ms/step - loss: 0.0584 - val_loss: 0.1549\n",
            "Epoch 123/500\n",
            "26/26 [==============================] - 1s 39ms/step - loss: 0.0584 - val_loss: 0.1468\n",
            "Epoch 124/500\n",
            "26/26 [==============================] - 1s 39ms/step - loss: 0.0584 - val_loss: 0.1435\n",
            "Epoch 125/500\n",
            " 3/26 [==>...........................] - ETA: 0s - loss: 0.0604"
          ],
          "name": "stdout"
        }
      ]
    },
    {
      "cell_type": "code",
      "metadata": {
        "id": "AWNTwSoeNSkW",
        "colab_type": "code",
        "colab": {}
      },
      "source": [
        "pd.DataFrame(history_1.history['loss']).plot(figsize=(20,5))\n",
        "plt.grid(True)\n",
        "plt.title('Variations of the loss during the training')\n",
        "plt.show()"
      ],
      "execution_count": null,
      "outputs": []
    },
    {
      "cell_type": "code",
      "metadata": {
        "id": "DavEdH3WNSkZ",
        "colab_type": "code",
        "colab": {}
      },
      "source": [
        "model.evaluate(x_test, x_test, verbose=1)"
      ],
      "execution_count": null,
      "outputs": []
    },
    {
      "cell_type": "code",
      "metadata": {
        "id": "VErfRiHmNSkb",
        "colab_type": "code",
        "colab": {}
      },
      "source": [
        "test_prediction = model.predict(x_test)"
      ],
      "execution_count": null,
      "outputs": []
    },
    {
      "cell_type": "code",
      "metadata": {
        "id": "_hD71wugNSkd",
        "colab_type": "code",
        "colab": {}
      },
      "source": [
        "# compare mse between prediciton and target\n",
        "def rmse(predictions, targets):\n",
        "    return np.sqrt(((predictions - targets) ** 2).mean())"
      ],
      "execution_count": null,
      "outputs": []
    },
    {
      "cell_type": "code",
      "metadata": {
        "id": "e0RtAYOUNSkg",
        "colab_type": "code",
        "colab": {}
      },
      "source": [
        "rmse(test_prediction, x_test)"
      ],
      "execution_count": null,
      "outputs": []
    },
    {
      "cell_type": "markdown",
      "metadata": {
        "id": "WrJSBLf9NSkj",
        "colab_type": "text"
      },
      "source": [
        "# Encoder-Model"
      ]
    },
    {
      "cell_type": "code",
      "metadata": {
        "id": "n2o-JOmBNSkj",
        "colab_type": "code",
        "colab": {}
      },
      "source": [
        "train_encoded = encoder.predict(x_train)\n",
        "test_encoded = encoder.predict(x_test)\n",
        "print('Encoded time-series shape', train_encoded.shape)\n",
        "print('Encoded time-series sample', train_encoded[0])"
      ],
      "execution_count": null,
      "outputs": []
    },
    {
      "cell_type": "code",
      "metadata": {
        "id": "tZXEvdNdNSkl",
        "colab_type": "code",
        "colab": {}
      },
      "source": [
        "train_encoded_scaled = sc.fit_transform(train_encoded)\n",
        "plt.plot(train_encoded_scaled,label='reconstruted')\n",
        "plt.plot(train_set_scaled.values[:])\n",
        "plt.legend()"
      ],
      "execution_count": null,
      "outputs": []
    },
    {
      "cell_type": "code",
      "metadata": {
        "id": "-WbePTS_NSko",
        "colab_type": "code",
        "colab": {}
      },
      "source": [
        "test_encoded_scaled = sc.fit_transform(test_encoded)\n",
        "plt.plot(test_encoded_scaled, label='reconstructed')\n",
        "plt.plot(test_set_scaled.values[:])\n",
        "plt.legend()"
      ],
      "execution_count": null,
      "outputs": []
    },
    {
      "cell_type": "markdown",
      "metadata": {
        "id": "kRv6hWoPNSkq",
        "colab_type": "text"
      },
      "source": [
        "# Prediction-Model "
      ]
    },
    {
      "cell_type": "markdown",
      "metadata": {
        "id": "lCmOc23qNSkq",
        "colab_type": "text"
      },
      "source": [
        "## Using compressed features from encoder to predict the future index"
      ]
    },
    {
      "cell_type": "code",
      "metadata": {
        "id": "X105f-gNNSkq",
        "colab_type": "code",
        "colab": {}
      },
      "source": [
        "#x1_train, y1_train = normalize_data(train_set_scaled['Adj Close'], train_set_scaled['Adj Close'], 23)\n",
        "#x1_test, y1_test = normalize_data(test_set_scaled['Adj Close'], test_set_scaled['Adj Close'], 23)"
      ],
      "execution_count": null,
      "outputs": []
    },
    {
      "cell_type": "code",
      "metadata": {
        "id": "DTOhRQ7BNSkt",
        "colab_type": "code",
        "colab": {}
      },
      "source": [
        "x1_train, y1_train = normalize_data(train_set_scaled['Adj Close'], train_set_scaled['Adj Close'], 10)\n",
        "x1_test, y1_test = normalize_data(test_set_scaled['Adj Close'], test_set_scaled['Adj Close'], 10)"
      ],
      "execution_count": null,
      "outputs": []
    },
    {
      "cell_type": "code",
      "metadata": {
        "id": "TtpRXbw6NSkv",
        "colab_type": "code",
        "colab": {}
      },
      "source": [
        "# train data \n",
        "x1_train = x1_train.reshape(x1_train.shape[0],x1_train.shape[1])\n",
        "#compressed_train = pd.DataFrame(x1_train, columns= range(1,24))\n",
        "compressed_train = pd.DataFrame(x1_train, columns= range(1,11))\n",
        "#compressed_train['encoder'] = train_encoded_scaled\n",
        "compressed_train['encoder'] = train_encoded\n",
        "compressed_train['target']= y1_train"
      ],
      "execution_count": null,
      "outputs": []
    },
    {
      "cell_type": "code",
      "metadata": {
        "id": "ZvLWzV_1NSkx",
        "colab_type": "code",
        "colab": {}
      },
      "source": [
        "# Train data\n",
        "x_train_encoded = np.array(compressed_train[['encoder',10,9,8,7]])\n",
        "#x_train_encoded = np.array(compressed_train[['encoder',23,22,21,20]])\n",
        "#x_train_encoded_2 = np.array(compressed_train[['encoder',22,20,18,16]])\n",
        "y_train_encoded = np.array(compressed_train['target'])\n",
        "\n",
        "x_train_encoded = x_train_encoded.reshape(x_train_encoded.shape[0],x_train_encoded.shape[1],1)\n",
        "#x_train_encoded_2 = x_train_encoded_2.reshape(x_train_encoded_2.shape[0],x_train_encoded_2.shape[1],1)"
      ],
      "execution_count": null,
      "outputs": []
    },
    {
      "cell_type": "code",
      "metadata": {
        "id": "4U1FTmwaNSkz",
        "colab_type": "code",
        "colab": {}
      },
      "source": [
        "# test data \n",
        "x1_test = x1_test.reshape(x1_test.shape[0],x1_test.shape[1])\n",
        "# compressed_test = pd.DataFrame(x1_test, columns= range(1,24))\n",
        "compressed_test = pd.DataFrame(x1_test, columns= range(1,11))\n",
        "compressed_test['encoder'] = test_encoded\n",
        "compressed_test['target']= y1_test\n",
        "\n",
        "x_test_encoded = np.array(compressed_test[['encoder',10,9,8,7]])\n",
        "#x_test_encoded = np.array(compressed_test[['encoder',23,22,21,20]])\n",
        "#x_test_encoded_2 = np.array(compressed_test[['encoder',22,20,18,16]])\n",
        "y_test_encoded = np.array(compressed_test['target'])\n",
        "x_test_encoded = x_test_encoded.reshape(x_test_encoded.shape[0],x_test_encoded.shape[1],1)\n",
        "#x_test_encoded_2 = x_test_encoded_2.reshape(x_test_encoded_2.shape[0],x_test_encoded_2.shape[1],1)"
      ],
      "execution_count": null,
      "outputs": []
    },
    {
      "cell_type": "code",
      "metadata": {
        "id": "Z6Cz3feVNSk1",
        "colab_type": "code",
        "colab": {}
      },
      "source": [
        "# LSTM-AE\n",
        "timesteps = x_train_encoded.shape[1]\n",
        "n_features = x_train_encoded.shape[2]\n",
        "\n",
        "model2 = Sequential()\n",
        "model2.add(LSTM(128,activation='relu',input_shape= (timesteps,n_features),return_sequences = True))\n",
        "model2.add(Dropout(0.2))\n",
        "model2.add(LSTM(64,activation='relu'))\n",
        "model2.add(Dropout(0.2))\n",
        "model2.add(Dense(1, activation='linear'))\n",
        "\n",
        "model2.compile(optimizer='adam',loss='mse')\n",
        "model2.summary()"
      ],
      "execution_count": null,
      "outputs": []
    },
    {
      "cell_type": "code",
      "metadata": {
        "id": "Bs7lQRryNSk4",
        "colab_type": "code",
        "colab": {}
      },
      "source": [
        "#history_2 = model2.fit(x_train_encoded, y_train_encoded, epochs=50, batch_size= 32, validation_split=0.1, callbacks=[es], verbose=1)\n",
        "\n",
        "history_2 model2.fit(x_train_encoded, y_train_encoded, epoches=500, batch_size = 32, validation_split=0.1, verbose=1)"
      ],
      "execution_count": null,
      "outputs": []
    },
    {
      "cell_type": "code",
      "metadata": {
        "scrolled": true,
        "id": "KAxbexVbNSk7",
        "colab_type": "code",
        "colab": {}
      },
      "source": [
        "test_prediction = model2.predict(x_test_encoded)\n",
        "plt.plot(y_test_encoded,label='Target')\n",
        "plt.plot(test_prediction,label='Prediction')\n",
        "plt.title('Model Prediction Performance')\n",
        "plt.legend()"
      ],
      "execution_count": null,
      "outputs": []
    },
    {
      "cell_type": "code",
      "metadata": {
        "id": "-Dm2JsUzNSk9",
        "colab_type": "code",
        "colab": {}
      },
      "source": [
        "df = pd.DataFrame()\n",
        "df['target'] = y_test_encoded\n",
        "df['prediction'] = test_prediction.reshape(test_prediction.shape[0])\n",
        "df['encoder'] = test_encoded"
      ],
      "execution_count": null,
      "outputs": []
    },
    {
      "cell_type": "code",
      "metadata": {
        "id": "PCClpMB8NSk-",
        "colab_type": "code",
        "colab": {}
      },
      "source": [
        "cm = np.corrcoef(df.values.T)   \n",
        "sns.set(font_scale=1.2)  \n",
        "hm = sns.heatmap(cm,cbar=True,annot=True,square=True,fmt='.4f',annot_kws={'size': 15},yticklabels=df.columns,xticklabels=df.columns)\n",
        "#plt.tight_layout()\n",
        "plt.savefig('corr_mat.png', dpi=300)"
      ],
      "execution_count": null,
      "outputs": []
    },
    {
      "cell_type": "markdown",
      "metadata": {
        "id": "YAoJZSBBNSlB",
        "colab_type": "text"
      },
      "source": [
        "# Prediction-Model 2\n",
        "## Out-of-Sample"
      ]
    },
    {
      "cell_type": "code",
      "metadata": {
        "id": "7kGFBwf2NSlB",
        "colab_type": "code",
        "colab": {}
      },
      "source": [
        "#x_test, y_test = normalize_data(test_set_scaled, test_set_scaled['Adj Close'], 23)\n",
        "#x_test_encoded = np.array(compressed_test[['encoder',23,22,21,20]])\n",
        "\n",
        "x_test, y_test = normalize_data(test_set_scaled, test_set_scaled['Adj Close'], 10)\n",
        "x_test_encoded = np.array(compressed_test[['encoder',10,9,8,7]])"
      ],
      "execution_count": null,
      "outputs": []
    },
    {
      "cell_type": "code",
      "metadata": {
        "id": "8F8sakI_NSlE",
        "colab_type": "code",
        "colab": {}
      },
      "source": [
        "pred = []\n",
        "test = x_test_encoded[0].reshape(1,x_train_encoded.shape[1],x_train_encoded.shape[2])\n",
        "test_prediction = model2.predict(test)\n",
        "pred.append(test_prediction)"
      ],
      "execution_count": null,
      "outputs": []
    },
    {
      "cell_type": "code",
      "metadata": {
        "id": "MJpeVR9HNSlG",
        "colab_type": "code",
        "colab": {}
      },
      "source": [
        "test[0,4]= test[0,3]\n",
        "test[0,3]= test[0,2]\n",
        "test[0,2]= test[0,1]\n",
        "test[0,1]= pred[-1]\n",
        "x_test[1,9] = [pred[-1],pred[-1],pred[-1],pred[-1],pred[-1]]\n",
        "encoder_value = encoder.predict(x_test[1].reshape(1,x_test.shape[1],x_test.shape[2]))\n",
        "#encoder_value = sc.fit_transform(encoder_value)\n",
        "test[0,0]= encoder_value\n",
        "test_prediction = model2.predict(test)\n",
        "pred.append(test_prediction)"
      ],
      "execution_count": null,
      "outputs": []
    },
    {
      "cell_type": "code",
      "metadata": {
        "id": "0hCVgDv2NSlM",
        "colab_type": "code",
        "colab": {}
      },
      "source": [
        "for i in range(1,len(x_test_encoded)):\n",
        "    #test = x_test_encoded[i].reshape(1,x_train_encoded.shape[1],x_train_encoded.shape[2])\n",
        "    test[0,4]= test[0,3]\n",
        "    test[0,3]= test[0,2]\n",
        "    test[0,2]= test[0,1]\n",
        "    test[0,1]= pred[-1]\n",
        "    x_test[i,9] = [pred[-1],pred[-1],pred[-1],pred[-1],pred[-1]]\n",
        "    encoder_value = encoder.predict(x_test[i].reshape(1,x_test.shape[1],x_test.shape[2]))  \n",
        "    test[0,0]= encoder_value\n",
        "    test_prediction = model2.predict(test)\n",
        "    pred.append(test_prediction)\n",
        "    \n",
        "array_pred = np.array(pred)\n",
        "df_pred = pd.DataFrame(array_pred.reshape(len(pred)))"
      ],
      "execution_count": null,
      "outputs": []
    },
    {
      "cell_type": "code",
      "metadata": {
        "id": "6cd8qLFENSlP",
        "colab_type": "code",
        "colab": {}
      },
      "source": [
        "plt.plot(y_test_encoded,label='Target')\n",
        "df_pred_scaled = sc.fit_transform(df_pred)\n",
        "plt.plot(df_pred,label='Prediction')\n",
        "plt.plot(df_pred_scaled[:],label='scaled Prediction')\n",
        "plt.title('Model Prediction Performance')\n",
        "plt.legend()"
      ],
      "execution_count": null,
      "outputs": []
    },
    {
      "cell_type": "code",
      "metadata": {
        "id": "xhNeDrzlNSlR",
        "colab_type": "code",
        "colab": {}
      },
      "source": [
        "plt.plot(y_test_encoded[100:],label='Target')\n",
        "plt.plot(df_pred.values[100:],label='Prediction')\n",
        "#plt.plot(df_pred_scaled[100:],label='scaled Prediction')\n",
        "plt.title('Model Prediction Performance')\n",
        "plt.legend()"
      ],
      "execution_count": null,
      "outputs": []
    },
    {
      "cell_type": "code",
      "metadata": {
        "id": "b_OK8BUkNSlT",
        "colab_type": "code",
        "colab": {}
      },
      "source": [
        "df3 = pd.DataFrame()\n",
        "df3['target'] = y_test_encoded\n",
        "df3['prediction'] = df_pred_scaled[:-1]\n",
        "df3['encoder'] = test_encoded\n",
        "\n",
        "cm = np.corrcoef(df3.values.T)   \n",
        "sns.set(font_scale=1.2)  \n",
        "hm = sns.heatmap(cm,cbar=True,annot=True,square=True,fmt='.4f',annot_kws={'size': 15},yticklabels=df3.columns,xticklabels=df3.columns)\n",
        "#plt.tight_layout()\n",
        "#plt.savefig('corr_mat.png', dpi=300)"
      ],
      "execution_count": null,
      "outputs": []
    },
    {
      "cell_type": "markdown",
      "metadata": {
        "id": "5kLq_fjyNSlW",
        "colab_type": "text"
      },
      "source": [
        "# Improved Prediction-Model\n",
        "## Additional features, e.g commonal stocks, least commonal stocks"
      ]
    },
    {
      "cell_type": "code",
      "metadata": {
        "id": "T9IwZSMTNSlW",
        "colab_type": "code",
        "colab": {}
      },
      "source": [
        "# inspired by the deep portfolio theory, which is capable to reconstruct the market index with limited components\n",
        "# we plan to put the 5 most communal stocks into the LSTM-AE to extract the pf's hidden features from the encoder\n",
        "# as well as the 5 least communal stocks to capture the market volatiles"
      ],
      "execution_count": null,
      "outputs": []
    },
    {
      "cell_type": "markdown",
      "metadata": {
        "id": "WDYMQyUVNSlY",
        "colab_type": "text"
      },
      "source": [
        "### most communal stocks"
      ]
    },
    {
      "cell_type": "code",
      "metadata": {
        "id": "v1gEbevTPcOg",
        "colab_type": "code",
        "colab": {}
      },
      "source": [
        "c_train_scaled = 'https://raw.githubusercontent.com/oliverwsd/LSTM_AE/master/communal_train_scaled.csv'\n",
        "c_test_scaled =  'https://raw.githubusercontent.com/oliverwsd/LSTM_AE/master/communal_test_scaled.csv'\n",
        "\n",
        "c_train_scaled = pd.read_csv(c_train_scaled, index_col=0)\n",
        "c_test_scaled = pd.read_csv(c_test_scaled, index_col=0)"
      ],
      "execution_count": null,
      "outputs": []
    },
    {
      "cell_type": "code",
      "metadata": {
        "id": "_TpWj2dwNSlY",
        "colab_type": "code",
        "colab": {}
      },
      "source": [
        "#c_train_scaled = pd.read_csv('communal_train_scaled.csv',index_col=0)\n",
        "#c_test_scaled =  pd.read_csv('communal_test_scaled.csv',index_col=0)\n",
        "\n",
        "#c_x_train, c_y_train = normalize_data(c_train_scaled, train_set_scaled['Adj Close'], 23)\n",
        "#c_x_test, c_y_test = normalize_data(c_test_scaled, test_set_scaled['Adj Close'], 23)\n",
        "\n",
        "c_x_train, c_y_train = normalize_data(c_train_scaled, train_set_scaled['Adj Close'], 10)\n",
        "c_x_test, c_y_test = normalize_data(c_test_scaled, test_set_scaled['Adj Close'], 10)"
      ],
      "execution_count": null,
      "outputs": []
    },
    {
      "cell_type": "code",
      "metadata": {
        "id": "vmeYHBdINSla",
        "colab_type": "code",
        "colab": {}
      },
      "source": [
        "c_train_encoded = encoder.predict(c_x_train)\n",
        "c_train_encoded_scaled = sc.fit_transform(c_train_encoded)\n",
        "plt.plot(c_train_encoded_scaled,label='reconstruted')\n",
        "plt.plot(c_train_scaled.values[:])\n",
        "plt.legend()"
      ],
      "execution_count": null,
      "outputs": []
    },
    {
      "cell_type": "code",
      "metadata": {
        "id": "_0kXBMYrNSlc",
        "colab_type": "code",
        "colab": {}
      },
      "source": [
        "c_test_encoded = encoder.predict(c_x_test)\n",
        "c_test_encoded_scaled = sc.fit_transform(c_test_encoded)\n",
        "plt.plot(c_test_encoded_scaled,label='reconstruted')\n",
        "plt.plot(c_test_scaled.values[:])\n",
        "plt.legend()"
      ],
      "execution_count": null,
      "outputs": []
    },
    {
      "cell_type": "markdown",
      "metadata": {
        "id": "U5FoIdrsNSlf",
        "colab_type": "text"
      },
      "source": [
        "### least communal stocks"
      ]
    },
    {
      "cell_type": "code",
      "metadata": {
        "id": "jHPQsE1bQZfP",
        "colab_type": "code",
        "colab": {}
      },
      "source": [
        "l_train_scaled = 'https://raw.githubusercontent.com/oliverwsd/LSTM_AE/master/least_communal_train_scaled.csv'\n",
        "l_test_scaled = 'https://raw.githubusercontent.com/oliverwsd/LSTM_AE/master/least_communal_test_scaled.csv'\n",
        "l_train_scaled = pd.read_csv(l_train_scaled, index_col=0)\n",
        "l_test_scaled = pd.read_csv(l_test_scaled, index_col=0)"
      ],
      "execution_count": null,
      "outputs": []
    },
    {
      "cell_type": "code",
      "metadata": {
        "id": "-jIX5mkMNSlh",
        "colab_type": "code",
        "colab": {}
      },
      "source": [
        "#l_train_scaled = pd.read_csv('least_communal_train_scaled.csv',index_col=0)\n",
        "#l_test_scaled =  pd.read_csv('least_communal_test_scaled.csv',index_col=0)\n",
        "\n",
        "#l_x_train, l_y_train = normalize_data(l_train_scaled, train_set_scaled['Adj Close'], 23)\n",
        "#l_x_test, l_y_test = normalize_data(l_test_scaled, test_set_scaled['Adj Close'], 23)\n",
        "\n",
        "l_x_train, l_y_train = normalize_data(l_train_scaled, train_set_scaled['Adj Close'], 10)\n",
        "l_x_test, l_y_test = normalize_data(l_test_scaled, test_set_scaled['Adj Close'], 10)"
      ],
      "execution_count": null,
      "outputs": []
    },
    {
      "cell_type": "code",
      "metadata": {
        "id": "SJZOFWuTNSli",
        "colab_type": "code",
        "colab": {}
      },
      "source": [
        "l_train_encoded = encoder.predict(l_x_train)\n",
        "l_train_encoded_scaled = sc.fit_transform(l_train_encoded)\n",
        "plt.plot(l_train_encoded_scaled,label='reconstruted')\n",
        "plt.plot(l_train_scaled.values[:])\n",
        "plt.legend()"
      ],
      "execution_count": null,
      "outputs": []
    },
    {
      "cell_type": "code",
      "metadata": {
        "id": "F4djX5VUNSlk",
        "colab_type": "code",
        "colab": {}
      },
      "source": [
        "l_test_encoded = encoder.predict(l_x_test)\n",
        "l_test_encoded_scaled = sc.fit_transform(l_test_encoded)\n",
        "plt.plot(l_test_encoded_scaled,label='reconstruted')\n",
        "plt.plot(l_test_scaled.values[:])\n",
        "plt.legend()"
      ],
      "execution_count": null,
      "outputs": []
    },
    {
      "cell_type": "code",
      "metadata": {
        "id": "TU5hjwQlNSln",
        "colab_type": "code",
        "colab": {}
      },
      "source": [
        "df4 = pd.DataFrame()\n",
        "df4['target'] = y_test_encoded\n",
        "df4['encoder 1'] = test_encoded_scaled\n",
        "df4['encoder 2'] = c_test_encoded_scaled\n",
        "df4['encoder 3'] = l_test_encoded_scaled\n",
        "cm = np.corrcoef(df4.values.T)   \n",
        "sns.set(font_scale=1.2)  \n",
        "hm = sns.heatmap(cm,cbar=True,annot=True,square=True,fmt='.4f',annot_kws={'size': 15},yticklabels=df4.columns,xticklabels=df4.columns)\n",
        "#plt.tight_layout()\n",
        "#plt.savefig('corr_mat.png', dpi=300)"
      ],
      "execution_count": null,
      "outputs": []
    },
    {
      "cell_type": "code",
      "metadata": {
        "id": "P1kJF3Z9NSlp",
        "colab_type": "code",
        "colab": {}
      },
      "source": [
        "df5 = pd.DataFrame()\n",
        "df5['target'] = y_train_encoded\n",
        "df5['encoder 1'] = train_encoded_scaled\n",
        "df5['encoder 2'] = c_train_encoded_scaled\n",
        "df5['encoder 3'] = l_train_encoded_scaled\n",
        "cm = np.corrcoef(df5.values.T)   \n",
        "sns.set(font_scale=1.2)  \n",
        "hm = sns.heatmap(cm,cbar=True,annot=True,square=True,fmt='.4f',annot_kws={'size': 15},yticklabels=df5.columns,xticklabels=df5.columns)\n",
        "#plt.tight_layout()\n",
        "#plt.savefig('corr_mat.png', dpi=300)"
      ],
      "execution_count": null,
      "outputs": []
    },
    {
      "cell_type": "markdown",
      "metadata": {
        "id": "kdngyLolNSlr",
        "colab_type": "text"
      },
      "source": [
        "Add new encoders into the model"
      ]
    },
    {
      "cell_type": "code",
      "metadata": {
        "id": "8FcEmhDVNSlr",
        "colab_type": "code",
        "colab": {}
      },
      "source": [
        "compressed_train['c_encoder'] = c_train_encoded\n",
        "compressed_train['l_encoder'] = l_train_encoded\n",
        "\n",
        "compressed_test['c_encoder'] = c_test_encoded\n",
        "compressed_test['l_encoder'] = l_test_encoded"
      ],
      "execution_count": null,
      "outputs": []
    },
    {
      "cell_type": "code",
      "metadata": {
        "id": "fJF43_jbNSls",
        "colab_type": "code",
        "colab": {}
      },
      "source": [
        "# Train data\n",
        "x_train_encoded_3 = np.array(compressed_train[['encoder',10,9,'l_encoder','c_encoder']])\n",
        "#x_train_encoded_3 = np.array(compressed_train[['encoder',23,22,'l_encoder','c_encoder']])\n",
        "#y_train_encoded = np.array(compressed_train['target'])\n",
        "x_train_encoded_3 = x_train_encoded_3.reshape(x_train_encoded_3.shape[0],x_train_encoded_3.shape[1],1)\n",
        "\n",
        "# Test Data\n",
        "x_test_encoded_3 = np.array(compressed_test[['encoder',10,9,'l_encoder','c_encoder']])\n",
        "#x_test_encoded_3 = np.array(compressed_test[['encoder',23,22,'l_encoder','c_encoder']])\n",
        "#y_test_encoded = np.array(compressed_test['target'])\n",
        "x_test_encoded_3 = x_test_encoded_3.reshape(x_test_encoded_3.shape[0],x_test_encoded_3.shape[1],1)"
      ],
      "execution_count": null,
      "outputs": []
    },
    {
      "cell_type": "code",
      "metadata": {
        "id": "8S4_NXqyNSlu",
        "colab_type": "code",
        "colab": {}
      },
      "source": [
        "history_3 = model2.fit(x_train_encoded_3, y_train_encoded, epochs=50, batch_size= 16, validation_split=0.1, callbacks=[es], verbose=1)"
      ],
      "execution_count": null,
      "outputs": []
    },
    {
      "cell_type": "code",
      "metadata": {
        "id": "jzg4BbjTNSlw",
        "colab_type": "code",
        "colab": {}
      },
      "source": [
        "test_prediction = model2.predict(x_test_encoded_3)\n",
        "plt.plot(y_test_encoded,label='Target')\n",
        "plt.plot(test_prediction,label='Prediction')\n",
        "plt.title('Model Prediction Performance')\n",
        "plt.legend()"
      ],
      "execution_count": null,
      "outputs": []
    },
    {
      "cell_type": "code",
      "metadata": {
        "id": "45yn89oMNSly",
        "colab_type": "code",
        "colab": {}
      },
      "source": [
        "df6 = pd.DataFrame()\n",
        "df6['target'] = y_test_encoded\n",
        "df6['prediction'] = test_prediction.reshape(test_prediction.shape[0])\n",
        "df6['encoder'] = test_encoded\n",
        "\n",
        "cm = np.corrcoef(df6.values.T)   \n",
        "sns.set(font_scale=1.2)  \n",
        "hm = sns.heatmap(cm,cbar=True,annot=True,square=True,fmt='.4f',annot_kws={'size': 15},yticklabels=df6.columns,xticklabels=df6.columns)\n",
        "#plt.tight_layout()\n",
        "#plt.savefig('corr_mat.png', dpi=300)"
      ],
      "execution_count": null,
      "outputs": []
    }
  ]
}